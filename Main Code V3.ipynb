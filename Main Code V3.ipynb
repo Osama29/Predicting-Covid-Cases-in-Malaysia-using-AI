{
 "cells": [
  {
   "cell_type": "code",
   "execution_count": 1,
   "metadata": {},
   "outputs": [],
   "source": [
    "import pandas as pd\n",
    "from functools import reduce\n",
    "import numpy as np\n",
    "import matplotlib.pyplot as plt\n",
    "from pandas import merge\n",
    "from sklearn.preprocessing import PolynomialFeatures\n",
    "from sklearn.model_selection import train_test_split, cross_val_score, cross_val_predict\n",
    "from sklearn.metrics import mean_squared_error,r2_score\n",
    "# from sklearn.model_selection import train_test_split\n",
    "from sklearn.neighbors import KNeighborsClassifier\n",
    "from sklearn.metrics import accuracy_score\n",
    "from sklearn.linear_model import LinearRegression\n",
    "# from sklearn.metrics import mean_squared_error\n",
    "from sklearn.linear_model import LogisticRegression\n",
    "from sklearn import metrics\n",
    "from sklearn.metrics import classification_report\n",
    "%matplotlib inline\n"
   ]
  },
  {
   "cell_type": "code",
   "execution_count": 2,
   "metadata": {},
   "outputs": [],
   "source": [
    "\n",
    "icu_cases_path =  'https://raw.githubusercontent.com/MoH-Malaysia/covid19-public/main/epidemic/icu.csv'\n",
    "vax_malaysia_path = 'https://raw.githubusercontent.com/MoH-Malaysia/covid19-public/main/vaccination/vax_malaysia.csv'\n",
    "death_malaysia_path = 'https://raw.githubusercontent.com/MoH-Malaysia/covid19-public/main/epidemic/deaths_malaysia.csv'\n",
    "cases_malaysia_path = 'https://raw.githubusercontent.com/MoH-Malaysia/covid19-public/main/epidemic/cases_malaysia.csv'"
   ]
  },
  {
   "cell_type": "code",
   "execution_count": 3,
   "metadata": {},
   "outputs": [],
   "source": [
    "beginningDate = '2021-01-01'\n",
    "endingDate = '2021-06-30'"
   ]
  },
  {
   "cell_type": "code",
   "execution_count": 4,
   "metadata": {},
   "outputs": [],
   "source": [
    "icu_cases = pd.read_csv(icu_cases_path, usecols= ['date', 'state', 'beds_icu_covid'], parse_dates= ['date'])\n",
    "vax_malaysia = pd.read_csv(vax_malaysia_path)\n",
    "death_malaysia = pd.read_csv(death_malaysia_path)\n",
    "cases_malaysia = pd.read_csv(cases_malaysia_path)\n",
    "\n",
    "icu_cases['date'] = pd.to_datetime(icu_cases['date'])\n",
    "vax_malaysia['date'] = pd.to_datetime(vax_malaysia['date'])\n",
    "\n",
    "icu_cases = icu_cases[icu_cases['date'] >= beginningDate]\n",
    "icu_cases = icu_cases[icu_cases['date'] <= endingDate]\n",
    "\n",
    "vax_malaysia = vax_malaysia[vax_malaysia['date'] >= beginningDate]\n",
    "vax_malaysia = vax_malaysia[vax_malaysia['date'] <= endingDate]\n",
    "\n",
    "death_malaysia = death_malaysia[death_malaysia['date'] >= beginningDate]\n",
    "death_malaysia = death_malaysia[death_malaysia['date'] <= endingDate]\n",
    "\n",
    "cases_malaysia = cases_malaysia[cases_malaysia['date'] >= beginningDate]\n",
    "cases_malaysia = cases_malaysia[cases_malaysia['date'] <= endingDate]\n",
    "#print(vax_malaysia.head(5))"
   ]
  },
  {
   "cell_type": "code",
   "execution_count": 5,
   "metadata": {},
   "outputs": [
    {
     "name": "stdout",
     "output_type": "stream",
     "text": [
      "     cases_new  cases_elderly  cases_adult  cases_adolescent  cases_child  \\\n",
      "0         2068            115         1715                78          129   \n",
      "1         2295            113         1895                60          122   \n",
      "2         1704            114         1307                71          170   \n",
      "3         1741            103         1346                72          178   \n",
      "4         2027            125         1610                87          176   \n",
      "..         ...            ...          ...               ...          ...   \n",
      "176       5803            464         4280               326          573   \n",
      "177       5586            424         4174               316          566   \n",
      "178       5218            385         3755               348          644   \n",
      "179       6437            517         4191               367          744   \n",
      "180       6276            507         4401               377          781   \n",
      "\n",
      "     cases_unvax  cases_pvax  cases_fvax  deaths_unvax  deaths_pvax  \\\n",
      "0           2068           0           0            12            0   \n",
      "1           2295           0           0             9            0   \n",
      "2           1704           0           0             8            0   \n",
      "3           1741           0           0            10            0   \n",
      "4           2027           0           0            10            0   \n",
      "..           ...         ...         ...           ...          ...   \n",
      "176         5294         394         115            75           13   \n",
      "177         5032         422         132            56           15   \n",
      "178         4766         341         111            79           11   \n",
      "179         5849         426         162            74           16   \n",
      "180         5602         504         170            88           22   \n",
      "\n",
      "     deaths_fvax  deaths_boost  deaths_new  \n",
      "0              0             0           3  \n",
      "1              0             0           9  \n",
      "2              0             0          11  \n",
      "3              0             0           7  \n",
      "4              0             0          11  \n",
      "..           ...           ...         ...  \n",
      "176            0             0          81  \n",
      "177            1             0          60  \n",
      "178            1             0          57  \n",
      "179            1             0         107  \n",
      "180            0             0          62  \n",
      "\n",
      "[181 rows x 13 columns]\n"
     ]
    }
   ],
   "source": [
    "#filter wanted features (column) \n",
    "vaxStatus = pd.DataFrame(cases_malaysia, columns= ['date', 'cases_unvax', 'cases_pvax', 'cases_fvax'])\n",
    "icuCasesTotal = pd.DataFrame(icu_cases, columns= ['date', 'beds_icu_covid'])\n",
    "allAgesCases = pd.DataFrame(cases_malaysia, columns= ['date', 'cases_elderly', 'cases_adult', 'cases_adolescent', 'cases_child'])\n",
    "casesNum = pd.DataFrame(cases_malaysia, columns= ['date', 'cases_new'])\n",
    "death = pd.DataFrame(death_malaysia, columns= ['date', 'deaths_unvax', 'deaths_pvax', 'deaths_fvax', 'deaths_boost', 'deaths_new'])\n",
    "\n",
    "#sort wanted features (column) \n",
    "vaxStatus = vaxStatus.groupby('date').sum()\n",
    "icuCasesTotal = icuCasesTotal.groupby('date').sum()\n",
    "allAgesCases = allAgesCases.groupby('date').sum()\n",
    "death = death.groupby('date').sum()\n",
    "\n",
    "#merge wanted features \n",
    "features = casesNum.merge(allAgesCases, on='date', how=  'left')\n",
    "features = features.merge(vaxStatus, on= 'date', how= 'left')\n",
    "features= features.merge(death, on='date', how='left')\n",
    "features = features.fillna(0)\n",
    "\n",
    "# deletes the date column\n",
    "del features['date'] \n",
    "\n",
    "\n",
    "\n",
    "#display features \n",
    "print(features)"
   ]
  },
  {
   "cell_type": "code",
   "execution_count": 6,
   "metadata": {},
   "outputs": [],
   "source": [
    "# copies the dataframe to X\n",
    "x = features.copy()\n",
    "\n",
    "# copies the death_new column to y\n",
    "y = features['deaths_new']\n",
    "\n",
    "# deletes the death_new column from X\n",
    "del x['deaths_new'] \n"
   ]
  },
  {
   "cell_type": "code",
   "execution_count": 7,
   "metadata": {},
   "outputs": [
    {
     "name": "stdout",
     "output_type": "stream",
     "text": [
      "0.05454545454545454\n",
      "[60  8  5  3  4  7 11  3  2  4  3  2 11  2 14  3  3  4 11 15  2 49  7  4\n",
      " 25  2  7  3  7 60 49  7 11 57 59  4 59  1 60  7  2 59  4  4  1  2 49  2\n",
      "  2 11  4 50 57  8  1]\n"
     ]
    },
    {
     "data": {
      "text/plain": [
       "<matplotlib.collections.PathCollection at 0x1f126b01fa0>"
      ]
     },
     "execution_count": 7,
     "metadata": {},
     "output_type": "execute_result"
    },
    {
     "data": {
      "image/png": "[encoded data removed]",
      "text/plain": [
       "<Figure size 432x288 with 1 Axes>"
      ]
     },
     "metadata": {
      "needs_background": "light"
     },
     "output_type": "display_data"
    }
   ],
   "source": [
    "#KNN\n",
    "# Get the train set which still contains the y in it\n",
    "x_train, x_test, y_train, y_test = train_test_split(x, y, test_size=0.3) \n",
    "\n",
    "# Create a N-Nearest Neighbors classifier of 9 neighbors\n",
    "knn = KNeighborsClassifier(n_neighbors=5)\n",
    "\n",
    "# Fit the model to training set\n",
    "knn.fit(x_train, y_train)\n",
    "\n",
    "y_pred = knn.predict(x_test)\n",
    "print(accuracy_score(y_test, y_pred))\n",
    "print(y_pred)\n",
    "\n",
    "\n",
    "ax=plt.axes()\n",
    "ax.scatter(y_test,y_pred,alpha=.5)\n"
   ]
  },
  {
   "cell_type": "code",
   "execution_count": 10,
   "metadata": {},
   "outputs": [
    {
     "name": "stdout",
     "output_type": "stream",
     "text": [
      "[ 11.13216736  10.32368853  90.02060392  13.85415147   7.47151051\n",
      "   4.52124246  84.72461478  12.1091727    8.99281323  22.1918622\n",
      "  16.0021299   74.4282708   12.32431856   5.73053293  48.39149921\n",
      "   8.03533425  22.96517076  71.6882386   13.71974769   6.47389929\n",
      "   6.99264401   6.40044384  72.02844658   5.1796398   73.5098024\n",
      "   7.53994394   5.26332841   6.80281055   7.66879231  89.07305455\n",
      "  12.99371968  13.16238762  70.12712326   5.85081933  14.95987553\n",
      "  32.95024087  11.44251585 104.82211681  21.84828589   9.17445304\n",
      "   8.30786343   5.30505605  11.70393066  10.94769062   8.24181548\n",
      "   4.67583533  71.65484136   5.11557547   7.77376313  66.48443758\n",
      "   5.34108909   5.10406818  10.79123663   6.90390664  55.72471524]\n"
     ]
    },
    {
     "data": {
      "text/plain": [
       "<matplotlib.collections.PathCollection at 0x1f126c17280>"
      ]
     },
     "execution_count": 10,
     "metadata": {},
     "output_type": "execute_result"
    },
    {
     "data": {
      "image/png": "[encoded data removed]",
      "text/plain": [
       "<Figure size 432x288 with 1 Axes>"
      ]
     },
     "metadata": {
      "needs_background": "light"
     },
     "output_type": "display_data"
    }
   ],
   "source": [
    "#Linear regression\n",
    "# Get the train set which still contains the y in it\n",
    "x_train, x_test, y_train, y_test = train_test_split(x, y, test_size=0.3) \n",
    "model= LinearRegression()\n",
    "model.fit(x_train,y_train)\n",
    "y_pred = model.predict(x_test)\n",
    "ax = plt.axes()\n",
    "print(y_pred)\n",
    "# we are going to use y_test, y_test_pred\n",
    "ax.scatter(y_test, y_pred, alpha=.5)\n"
   ]
  },
  {
   "cell_type": "code",
   "execution_count": 13,
   "metadata": {},
   "outputs": [
    {
     "name": "stdout",
     "output_type": "stream",
     "text": [
      "0.0136986301369863\n"
     ]
    },
    {
     "name": "stderr",
     "output_type": "stream",
     "text": [
      "C:\\Users\\User\\anaconda3\\lib\\site-packages\\sklearn\\linear_model\\_logistic.py:814: ConvergenceWarning: lbfgs failed to converge (status=1):\n",
      "STOP: TOTAL NO. of ITERATIONS REACHED LIMIT.\n",
      "\n",
      "Increase the number of iterations (max_iter) or scale the data as shown in:\n",
      "    https://scikit-learn.org/stable/modules/preprocessing.html\n",
      "Please also refer to the documentation for alternative solver options:\n",
      "    https://scikit-learn.org/stable/modules/linear_model.html#logistic-regression\n",
      "  n_iter_i = _check_optimize_result(\n"
     ]
    },
    {
     "data": {
      "text/plain": [
       "<matplotlib.collections.PathCollection at 0x1f126d87850>"
      ]
     },
     "execution_count": 13,
     "metadata": {},
     "output_type": "execute_result"
    },
    {
     "data": {
      "image/png": "[encoded data removed]",
      "text/plain": [
       "<Figure size 432x288 with 1 Axes>"
      ]
     },
     "metadata": {
      "needs_background": "light"
     },
     "output_type": "display_data"
    }
   ],
   "source": [
    "LogisticRegression(max_iter=500) \n",
    "\n",
    "x_train, x_test, y_train, y_test = train_test_split(x, y, test_size=0.4) \n",
    "\n",
    "model = LogisticRegression()\n",
    "model.fit(x_train, y_train)\n",
    "y_pred = model.predict(x_test)\n",
    "print(model.score(x_test,y_test))\n",
    "ax = plt.axes()\n",
    "ax.scatter(y_test, y_pred, alpha=.5)"
   ]
  },
  {
   "cell_type": "code",
   "execution_count": null,
   "metadata": {},
   "outputs": [],
   "source": []
  }
 ],
 "metadata": {
  "kernelspec": {
   "display_name": "Python 3 (ipykernel)",
   "language": "python",
   "name": "python3"
  },
  "language_info": {
   "codemirror_mode": {
    "name": "ipython",
    "version": 3
   },
   "file_extension": ".py",
   "mimetype": "text/x-python",
   "name": "python",
   "nbconvert_exporter": "python",
   "pygments_lexer": "ipython3",
   "version": "3.9.12"
  },
  "vscode": {
   "interpreter": {
    "hash": "0d3d304b8efacaa78eedc0664e885bff82bf938466f9dd6b4c046596e615e4a8"
   }
  }
 },
 "nbformat": 4,
 "nbformat_minor": 2
}
