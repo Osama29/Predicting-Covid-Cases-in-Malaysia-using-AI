{
 "cells": [
  {
   "cell_type": "code",
   "execution_count": 66,
   "metadata": {},
   "outputs": [],
   "source": [
    "import pandas as pd\n",
    "from functools import reduce\n",
    "import numpy as np\n",
    "from pandas import merge"
   ]
  },
  {
   "cell_type": "code",
   "execution_count": 67,
   "metadata": {},
   "outputs": [],
   "source": [
    "\n",
    "icu_cases_path =  'https://raw.githubusercontent.com/MoH-Malaysia/covid19-public/main/epidemic/icu.csv'\n",
    "vax_malaysia_path = 'https://raw.githubusercontent.com/MoH-Malaysia/covid19-public/main/vaccination/vax_malaysia.csv'\n",
    "death_malaysia_path = 'https://raw.githubusercontent.com/MoH-Malaysia/covid19-public/main/epidemic/deaths_malaysia.csv'\n",
    "cases_malaysia_path = 'https://raw.githubusercontent.com/MoH-Malaysia/covid19-public/main/epidemic/cases_malaysia.csv'"
   ]
  },
  {
   "cell_type": "code",
   "execution_count": 68,
   "metadata": {},
   "outputs": [],
   "source": [
    "beginningDate = '2021-01-01'\n",
    "endingDate = '2021-06-30'"
   ]
  },
  {
   "cell_type": "code",
   "execution_count": 69,
   "metadata": {},
   "outputs": [],
   "source": [
    "icu_cases = pd.read_csv(icu_cases_path, usecols= ['date', 'state', 'beds_icu_covid'], parse_dates= ['date'])\n",
    "vax_malaysia = pd.read_csv(vax_malaysia_path)\n",
    "death_malaysia = pd.read_csv(death_malaysia_path)\n",
    "cases_malaysia = pd.read_csv(cases_malaysia_path)\n",
    "\n",
    "icu_cases['date'] = pd.to_datetime(icu_cases['date'])\n",
    "vax_malaysia['date'] = pd.to_datetime(vax_malaysia['date'])\n",
    "\n",
    "icu_cases = icu_cases[icu_cases['date'] >= beginningDate]\n",
    "icu_cases = icu_cases[icu_cases['date'] <= endingDate]\n",
    "\n",
    "vax_malaysia = vax_malaysia[vax_malaysia['date'] >= beginningDate]\n",
    "vax_malaysia = vax_malaysia[vax_malaysia['date'] <= endingDate]\n",
    "\n",
    "death_malaysia = death_malaysia[death_malaysia['date'] >= beginningDate]\n",
    "death_malaysia = death_malaysia[death_malaysia['date'] <= endingDate]\n",
    "\n",
    "cases_malaysia = cases_malaysia[cases_malaysia['date'] >= beginningDate]\n",
    "cases_malaysia = cases_malaysia[cases_malaysia['date'] <= endingDate]\n",
    "#print(vax_malaysia.head(5))"
   ]
  },
  {
   "cell_type": "code",
   "execution_count": 95,
   "metadata": {},
   "outputs": [
    {
     "name": "stdout",
     "output_type": "stream",
     "text": [
      "           date  cases_new  cases_elderly  cases_adult  cases_adolescent  \\\n",
      "0    2021-01-01       2068            115         1715                78   \n",
      "1    2021-01-02       2295            113         1895                60   \n",
      "2    2021-01-03       1704            114         1307                71   \n",
      "3    2021-01-04       1741            103         1346                72   \n",
      "4    2021-01-05       2027            125         1610                87   \n",
      "..          ...        ...            ...          ...               ...   \n",
      "176  2021-06-26       5803            464         4280               326   \n",
      "177  2021-06-27       5586            424         4174               316   \n",
      "178  2021-06-28       5218            385         3755               348   \n",
      "179  2021-06-29       6437            517         4191               367   \n",
      "180  2021-06-30       6276            507         4401               377   \n",
      "\n",
      "     cases_child  cases_unvax  cases_pvax  cases_fvax  \n",
      "0            129         2068           0           0  \n",
      "1            122         2295           0           0  \n",
      "2            170         1704           0           0  \n",
      "3            178         1741           0           0  \n",
      "4            176         2027           0           0  \n",
      "..           ...          ...         ...         ...  \n",
      "176          573         5294         394         115  \n",
      "177          566         5032         422         132  \n",
      "178          644         4766         341         111  \n",
      "179          744         5849         426         162  \n",
      "180          781         5602         504         170  \n",
      "\n",
      "[181 rows x 9 columns]\n"
     ]
    }
   ],
   "source": [
    "casesAgesChild = cases_malaysia.iloc[:, 10]\n",
    "casesAgesAdole = cases_malaysia.iloc[:, 11]\n",
    "casesAgesAdult = cases_malaysia.iloc[:, 12]\n",
    "casesAgesElder = cases_malaysia.iloc[:, 13]\n",
    "#casesNum = cases_malaysia.iloc[:, 1]\n",
    "casesUnvax = cases_malaysia.iloc[:, 6]\n",
    "casesPvax = cases_malaysia.iloc[:, 7]\n",
    "casesFvax = cases_malaysia.iloc[:, 8]\n",
    "\n",
    "\n",
    "\n",
    "\n",
    "vaxStatus = pd.DataFrame(cases_malaysia, columns= ['date', 'cases_unvax', 'cases_pvax', 'cases_fvax'])\n",
    "icuCasesTotal = pd.DataFrame(icu_cases, columns= ['date', 'beds_icu_covid'])\n",
    "allAgesCases = pd.DataFrame(cases_malaysia, columns= ['date', 'cases_elderly', 'cases_adult', 'cases_adolescent', 'cases_child'])\n",
    "casesNum = pd.DataFrame(cases_malaysia, columns= ['date', 'cases_new'])\n",
    "\n",
    "vaxStatus = vaxStatus.groupby('date').sum()\n",
    "icuCasesTotal = icuCasesTotal.groupby('date').sum()\n",
    "allAgesCases = allAgesCases.groupby('date').sum()\n",
    "\n",
    "\n",
    "\n",
    "deathNum = death_malaysia.iloc[:, 1]\n",
    "deathUnvax = death_malaysia.iloc[:, 5]\n",
    "deathPvax = death_malaysia.iloc[:, 6]\n",
    "deathFvax = death_malaysia.iloc[:, 7]\n",
    "\n",
    "\n",
    "\n",
    "\n",
    "features = casesNum.merge(allAgesCases, on='date', how=  'left')\n",
    "features = features.merge(vaxStatus, on= 'date', how= 'left')\n",
    "\n",
    "\n",
    "\n",
    "print(features)\n",
    "\n"
   ]
  }
 ],
 "metadata": {
  "kernelspec": {
   "display_name": "Python 3.10.6 64-bit",
   "language": "python",
   "name": "python3"
  },
  "language_info": {
   "codemirror_mode": {
    "name": "ipython",
    "version": 3
   },
   "file_extension": ".py",
   "mimetype": "text/x-python",
   "name": "python",
   "nbconvert_exporter": "python",
   "pygments_lexer": "ipython3",
   "version": "3.10.6"
  },
  "orig_nbformat": 4,
  "vscode": {
   "interpreter": {
    "hash": "0d3d304b8efacaa78eedc0664e885bff82bf938466f9dd6b4c046596e615e4a8"
   }
  }
 },
 "nbformat": 4,
 "nbformat_minor": 2
}
